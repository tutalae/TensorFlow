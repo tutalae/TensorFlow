{
  "nbformat": 4,
  "nbformat_minor": 0,
  "metadata": {
    "colab": {
      "name": "TenserFlow-mnist.ipynb",
      "provenance": [],
      "authorship_tag": "ABX9TyOBc71i06D0Ybur4vpdDASO",
      "include_colab_link": true
    },
    "kernelspec": {
      "name": "python3",
      "display_name": "Python 3"
    },
    "accelerator": "GPU"
  },
  "cells": [
    {
      "cell_type": "markdown",
      "metadata": {
        "id": "view-in-github",
        "colab_type": "text"
      },
      "source": [
        "<a href=\"https://colab.research.google.com/github/tutalae/TensorFlow/blob/main/TenserFlow_mnist.ipynb\" target=\"_parent\"><img src=\"https://colab.research.google.com/assets/colab-badge.svg\" alt=\"Open In Colab\"/></a>"
      ]
    },
    {
      "cell_type": "code",
      "metadata": {
        "id": "Jmp-IpNnRaFo"
      },
      "source": [
        "import tensorflow as tf\r\n",
        "\r\n",
        "from PIL import Image\r\n",
        "from tensorflow.keras.layers import  Dense, Flatten, Conv2D\r\n",
        "from tensorflow.keras import Model\r\n",
        "import matplotlib.pyplot as plt"
      ],
      "execution_count": 20,
      "outputs": []
    },
    {
      "cell_type": "code",
      "metadata": {
        "id": "Os5LbNKfYWKN"
      },
      "source": [
        "# import progress bar\r\n",
        "from tqdm import  tqdm_notebook"
      ],
      "execution_count": 2,
      "outputs": []
    },
    {
      "cell_type": "code",
      "metadata": {
        "id": "GtxR1Xx-SJhk"
      },
      "source": [
        "# load dataset\r\n",
        "mnist  = tf.keras.datasets.mnist"
      ],
      "execution_count": 23,
      "outputs": []
    },
    {
      "cell_type": "code",
      "metadata": {
        "id": "KQreQHVvSRjf"
      },
      "source": [
        "# split data\r\n",
        "(x_train, y_train), (x_test,y_test) = mnist.load_data()"
      ],
      "execution_count": 22,
      "outputs": []
    },
    {
      "cell_type": "code",
      "metadata": {
        "id": "SUUHsWbhSlA7"
      },
      "source": [
        "# normalize color\r\n",
        "x_train, x_test = x_train / 255.0, x_test /255.0"
      ],
      "execution_count": 24,
      "outputs": []
    },
    {
      "cell_type": "code",
      "metadata": {
        "id": "kHjPOUUAS40J"
      },
      "source": [
        "# add a  chanel dimension\r\n",
        "x_train = x_train[..., tf.newaxis]\r\n",
        "x_test = x_test[..., tf.newaxis]\r\n"
      ],
      "execution_count": 25,
      "outputs": []
    },
    {
      "cell_type": "code",
      "metadata": {
        "colab": {
          "base_uri": "https://localhost:8080/"
        },
        "id": "J1jCGBG6TR-G",
        "outputId": "f3681018-a8f2-467a-8492-9b0bb282a19b"
      },
      "source": [
        "# check shape\r\n",
        "x_train.shape"
      ],
      "execution_count": 7,
      "outputs": [
        {
          "output_type": "execute_result",
          "data": {
            "text/plain": [
              "(60000, 28, 28, 1)"
            ]
          },
          "metadata": {
            "tags": []
          },
          "execution_count": 7
        }
      ]
    },
    {
      "cell_type": "code",
      "metadata": {
        "colab": {
          "base_uri": "https://localhost:8080/"
        },
        "id": "eXtzWVXGTaDQ",
        "outputId": "9e366820-53be-426c-ee16-6b235fce4045"
      },
      "source": [
        "x_test.shape"
      ],
      "execution_count": 8,
      "outputs": [
        {
          "output_type": "execute_result",
          "data": {
            "text/plain": [
              "(10000, 28, 28, 1)"
            ]
          },
          "metadata": {
            "tags": []
          },
          "execution_count": 8
        }
      ]
    },
    {
      "cell_type": "code",
      "metadata": {
        "id": "1q167_ZoTky-"
      },
      "source": [
        "# load data to batch , seed 10000\r\n",
        "train_dataset = tf.data.Dataset.from_tensor_slices(\r\n",
        "    (x_train, y_train)).shuffle(10000).batch(32)\r\n"
      ],
      "execution_count": 26,
      "outputs": []
    },
    {
      "cell_type": "code",
      "metadata": {
        "id": "8XlmB_bgUDat"
      },
      "source": [
        "test_dataset = tf.data.Dataset.from_tensor_slices((x_test, y_test)).batch(32)"
      ],
      "execution_count": 27,
      "outputs": []
    },
    {
      "cell_type": "code",
      "metadata": {
        "id": "b7yVMxKWUYBm"
      },
      "source": [
        "#Define Convolutional neural networks\r\n",
        "class yumyum(Model):\r\n",
        "  def __init__(self):\r\n",
        "    super(yumyum, self).__init__()\r\n",
        "    self.conv1 = Conv2D(32 ,3, activation='relu')\r\n",
        "    self.flatten = Flatten()\r\n",
        "    self.dense1 = Dense(128, activation='relu')\r\n",
        "    self.outputdense = Dense(10)\r\n",
        "\r\n",
        "  def call(self, x):\r\n",
        "    x = self.conv1(x)\r\n",
        "    x = self.flatten(x)\r\n",
        "    x = self.dense1(x)\r\n",
        "    return self.outputdense(x)\r\n",
        "\r\n",
        "model = yumyum()\r\n",
        "\r\n"
      ],
      "execution_count": 28,
      "outputs": []
    },
    {
      "cell_type": "code",
      "metadata": {
        "id": "3o0qPUZ1V_Nt"
      },
      "source": [
        "#Compile loss and optimizer\r\n",
        "loss_object = tf.keras.losses.SparseCategoricalCrossentropy(from_logits=True)\r\n",
        "\r\n",
        "optimizer = tf.keras.optimizers.Adam()"
      ],
      "execution_count": 29,
      "outputs": []
    },
    {
      "cell_type": "code",
      "metadata": {
        "id": "jRLo-uCNWR07"
      },
      "source": [
        "#Complie metrics\r\n",
        "train_loss = tf.keras.metrics.Mean(name='train_loss')\r\n",
        "train_accuracy = tf.keras.metrics.SparseCategoricalAccuracy(name='train_accuracy')\r\n",
        "\r\n",
        "test_loss = tf.keras.metrics.Mean(name='test_loss')\r\n",
        "test_accuracy = tf.keras.metrics.SparseCategoricalAccuracy(name='test_accuracy')"
      ],
      "execution_count": 30,
      "outputs": []
    },
    {
      "cell_type": "code",
      "metadata": {
        "id": "m9og_SiYW5u2"
      },
      "source": [
        "#Training Function\r\n",
        "@tf.function\r\n",
        "def train_step(images, labels):\r\n",
        "  with tf.GradientTape() as tape:\r\n",
        "\r\n",
        "    predictions = model(images, training=True)\r\n",
        "\r\n",
        "    loss = loss_object(labels, predictions)\r\n",
        "\r\n",
        "  gradients = tape.gradient(loss, model.trainable_variables)\r\n",
        "  optimizer.apply_gradients(zip(gradients, model.trainable_variables))\r\n",
        "\r\n",
        "  train_loss(loss)\r\n",
        "  train_accuracy(labels, predictions)"
      ],
      "execution_count": 31,
      "outputs": []
    },
    {
      "cell_type": "code",
      "metadata": {
        "id": "xBeVy6n1X4oy"
      },
      "source": [
        "# Evaluation Function\r\n",
        "@tf.function\r\n",
        "def test_step(images, labels):\r\n",
        "\r\n",
        "  predictions = model(images, training=False)\r\n",
        "  t_loss = loss_object(labels, predictions)\r\n",
        "\r\n",
        "  test_loss(t_loss)\r\n",
        "  test_accuracy(labels, predictions)\r\n",
        "  "
      ],
      "execution_count": 32,
      "outputs": []
    },
    {
      "cell_type": "code",
      "metadata": {
        "colab": {
          "base_uri": "https://localhost:8080/"
        },
        "id": "1KP5vGxTYji_",
        "outputId": "5b357d43-013f-4664-b05b-8ab6c0cd19cd"
      },
      "source": [
        "\r\n",
        "#Training cycle\r\n",
        "\r\n",
        "train_accuracy_ls = []\r\n",
        "train_loss_ls = []\r\n",
        "test_loss_ls = []\r\n",
        "test_accuracy_ls = []\r\n",
        "EPOCHS  = 10 \r\n",
        "\r\n",
        "for epoch in  range(EPOCHS):\r\n",
        "\r\n",
        "  train_loss.reset_states()\r\n",
        "\r\n",
        "  train_accuracy.reset_states()\r\n",
        "\r\n",
        "  test_loss.reset_states()\r\n",
        "\r\n",
        "  test_accuracy.reset_states()\r\n",
        "\r\n",
        "  for images, labels in train_dataset:\r\n",
        "    train_step(images, labels)\r\n",
        "\r\n",
        "  for test_images, test_labels in test_dataset:\r\n",
        "    test_step(test_images, test_labels)\r\n",
        "\r\n",
        "  templete = 'Epoch: {}, Loss: {}, Accuracy: {}, Test Loss: {}, Test Accuracy: {}'\r\n",
        "  print(templete.format(epoch + 1 ,\r\n",
        "                        train_loss.result(),\r\n",
        "                        train_accuracy.result() *100,\r\n",
        "                        test_loss.result(),\r\n",
        "                        test_accuracy.result() *100))\r\n",
        "  train_accuracy_ls.append(train_accuracy.result() *100)\r\n",
        "  train_loss_ls.append(train_loss.result())\r\n",
        "  test_accuracy_ls.append(test_accuracy.result() *100)\r\n",
        "  test_loss_ls.append(test_loss.result())"
      ],
      "execution_count": 33,
      "outputs": [
        {
          "output_type": "stream",
          "text": [
            "Epoch: 1, Loss: 0.13728627562522888, Accuracy: 95.85499572753906, Test Loss: 0.06411530822515488, Test Accuracy: 97.97999572753906\n",
            "Epoch: 2, Loss: 0.04127933830022812, Accuracy: 98.77333068847656, Test Loss: 0.0562695637345314, Test Accuracy: 98.3499984741211\n",
            "Epoch: 3, Loss: 0.022684333845973015, Accuracy: 99.2933349609375, Test Loss: 0.055247675627470016, Test Accuracy: 98.3699951171875\n",
            "Epoch: 4, Loss: 0.011907530948519707, Accuracy: 99.59833526611328, Test Loss: 0.05669272691011429, Test Accuracy: 98.3699951171875\n",
            "Epoch: 5, Loss: 0.009457272477447987, Accuracy: 99.69499969482422, Test Loss: 0.06411915272474289, Test Accuracy: 98.33999633789062\n",
            "Epoch: 6, Loss: 0.006594063714146614, Accuracy: 99.78666687011719, Test Loss: 0.07719610631465912, Test Accuracy: 98.22000122070312\n",
            "Epoch: 7, Loss: 0.006281757261604071, Accuracy: 99.7933349609375, Test Loss: 0.07072052359580994, Test Accuracy: 98.47999572753906\n",
            "Epoch: 8, Loss: 0.004441435448825359, Accuracy: 99.8616714477539, Test Loss: 0.0751413032412529, Test Accuracy: 98.40999603271484\n",
            "Epoch: 9, Loss: 0.004144302569329739, Accuracy: 99.86333465576172, Test Loss: 0.06513910740613937, Test Accuracy: 98.58000183105469\n",
            "Epoch: 10, Loss: 0.003410846460610628, Accuracy: 99.87666320800781, Test Loss: 0.07482831180095673, Test Accuracy: 98.56999969482422\n"
          ],
          "name": "stdout"
        }
      ]
    },
    {
      "cell_type": "code",
      "metadata": {
        "id": "i-QkiXC_ajrj"
      },
      "source": [
        "#Testing result\r\n",
        "predict_result = model(x_test, training=False)\r\n",
        "#predict_result = tf.nn.softmax(predict_result[1000])"
      ],
      "execution_count": 34,
      "outputs": []
    },
    {
      "cell_type": "code",
      "metadata": {
        "colab": {
          "base_uri": "https://localhost:8080/"
        },
        "id": "JiP_syqbT4Ug",
        "outputId": "50baf223-cff8-41aa-efcf-1155e1c32530"
      },
      "source": [
        "print(\" PredictResult {}\".format(tf.argmax(predict_result)))\r\n",
        "print(\" Label: {}\".format(y_test[1000]))"
      ],
      "execution_count": 35,
      "outputs": [
        {
          "output_type": "stream",
          "text": [
            " PredictResult [4650 4013 2354 7117 3397 5658  461 4474 1170 1666]\n",
            " Label: 9\n"
          ],
          "name": "stdout"
        }
      ]
    },
    {
      "cell_type": "code",
      "metadata": {
        "colab": {
          "base_uri": "https://localhost:8080/",
          "height": 280
        },
        "id": "wK_-xyIsT6Zr",
        "outputId": "63236035-ebda-460f-b9bd-ba1eca6ce747"
      },
      "source": [
        "plt.ylabel(\"Accuracy\")\r\n",
        "plt.xlabel(\"Epochs\")\r\n",
        "plt.plot([1,2,3,4,5,6,7,8,9,10],train_accuracy_ls,c=\"g\")\r\n",
        "plt.show()"
      ],
      "execution_count": 36,
      "outputs": [
        {
          "output_type": "display_data",
          "data": {
            "image/png": "[encoded data removed]",
            "text/plain": [
              "<Figure size 432x288 with 1 Axes>"
            ]
          },
          "metadata": {
            "tags": [],
            "needs_background": "light"
          }
        }
      ]
    },
    {
      "cell_type": "code",
      "metadata": {
        "colab": {
          "base_uri": "https://localhost:8080/",
          "height": 279
        },
        "id": "EufrXTwGT9HG",
        "outputId": "15e42c13-5827-4b82-a064-6e5d21cd00ef"
      },
      "source": [
        "plt.ylabel(\"Loss\")\r\n",
        "plt.xlabel(\"Epochs\")\r\n",
        "plt.plot([1,2,3,4,5,6,7,8,9,10],train_loss_ls,c=\"b\")\r\n",
        "\r\n",
        "plt.show()"
      ],
      "execution_count": 37,
      "outputs": [
        {
          "output_type": "display_data",
          "data": {
            "image/png": "[encoded data removed]",
            "text/plain": [
              "<Figure size 432x288 with 1 Axes>"
            ]
          },
          "metadata": {
            "tags": [],
            "needs_background": "light"
          }
        }
      ]
    },
    {
      "cell_type": "code",
      "metadata": {
        "colab": {
          "base_uri": "https://localhost:8080/",
          "height": 280
        },
        "id": "TpShXREBT_r7",
        "outputId": "369b0dab-a3d5-4dd5-e66d-d6fb8286f5f1"
      },
      "source": [
        "\r\n",
        "plt.style.use('dark_background') \r\n",
        "plt.ylabel(\"Test_accuracy\")\r\n",
        "plt.xlabel(\"Epoch\")\r\n",
        "plt.plot([1,2,3,4,5,6,7,8,9,10],test_accuracy_ls,c=\"r\")\r\n",
        "plt.show()"
      ],
      "execution_count": 38,
      "outputs": [
        {
          "output_type": "display_data",
          "data": {
            "image/png": "[encoded data removed]",
            "text/plain": [
              "<Figure size 432x288 with 1 Axes>"
            ]
          },
          "metadata": {
            "tags": []
          }
        }
      ]
    },
    {
      "cell_type": "code",
      "metadata": {
        "colab": {
          "base_uri": "https://localhost:8080/",
          "height": 279
        },
        "id": "8nBM1gcvUGzF",
        "outputId": "53864545-6c0d-4a95-c314-8bc828c06130"
      },
      "source": [
        "\r\n",
        "plt.style.use('dark_background') \r\n",
        "plt.ylabel(\"Test_loss\")\r\n",
        "plt.xlabel(\"Epoch\")\r\n",
        "plt.plot([1,2,3,4,5,6,7,8,9,10],test_loss_ls,c=\"y\")\r\n",
        "plt.show()"
      ],
      "execution_count": 40,
      "outputs": [
        {
          "output_type": "display_data",
          "data": {
            "image/png": "[encoded data removed]",
            "text/plain": [
              "<Figure size 432x288 with 1 Axes>"
            ]
          },
          "metadata": {
            "tags": []
          }
        }
      ]
    },
    {
      "cell_type": "code",
      "metadata": {
        "id": "6Ikjees2UNP2"
      },
      "source": [
        ""
      ],
      "execution_count": null,
      "outputs": []
    }
  ]
}