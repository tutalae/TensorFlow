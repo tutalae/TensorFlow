{
  "nbformat": 4,
  "nbformat_minor": 0,
  "metadata": {
    "colab": {
      "name": "Monte Carlo.ipynb",
      "provenance": [],
      "authorship_tag": "ABX9TyNPlc71yCvG81WFfD7gXPCb",
      "include_colab_link": true
    },
    "kernelspec": {
      "name": "python3",
      "display_name": "Python 3"
    },
    "language_info": {
      "name": "python"
    }
  },
  "cells": [
    {
      "cell_type": "markdown",
      "metadata": {
        "id": "view-in-github",
        "colab_type": "text"
      },
      "source": [
        "<a href=\"https://colab.research.google.com/github/tutalae/TensorFlow/blob/main/Monte_Carlo.ipynb\" target=\"_parent\"><img src=\"https://colab.research.google.com/assets/colab-badge.svg\" alt=\"Open In Colab\"/></a>"
      ]
    },
    {
      "cell_type": "code",
      "metadata": {
        "id": "ytL6Cf8AJHUs"
      },
      "source": [
        "import numpy as np\n",
        "from matplotlib import pyplot as plt"
      ],
      "execution_count": 5,
      "outputs": []
    },
    {
      "cell_type": "code",
      "metadata": {
        "id": "2VsuPiXTJwUu"
      },
      "source": [
        "n = 10000\n",
        "rocks = np.random.rand(n, 2)"
      ],
      "execution_count": 23,
      "outputs": []
    },
    {
      "cell_type": "code",
      "metadata": {
        "id": "NkEY3KWsKsma"
      },
      "source": [
        "j = []\n",
        "for i, rock in enumerate(rocks):\n",
        "  if rock[0]**2 + rock[1]**2 <=1:\n",
        "    j.append(i)\n"
      ],
      "execution_count": 24,
      "outputs": []
    },
    {
      "cell_type": "code",
      "metadata": {
        "id": "_-_T6RChLANq"
      },
      "source": [
        "j = np.array(j)"
      ],
      "execution_count": 25,
      "outputs": []
    },
    {
      "cell_type": "code",
      "metadata": {
        "colab": {
          "base_uri": "https://localhost:8080/",
          "height": 265
        },
        "id": "5AXoXO7VJ9r1",
        "outputId": "3ee85f5b-6177-4606-bb9c-a4c9eddc9d38"
      },
      "source": [
        "plt.plot(rocks[:, 0], rocks[:, 1], \".\")\n",
        "plt.plot(rocks[j, 0], rocks[j, 1], \"green\")\n",
        "plt.axis(\"equal\")\n",
        "plt.axis(\"off\")\n",
        "plt.show"
      ],
      "execution_count": 29,
      "outputs": [
        {
          "output_type": "execute_result",
          "data": {
            "text/plain": [
              "<function matplotlib.pyplot.show>"
            ]
          },
          "metadata": {
            "tags": []
          },
          "execution_count": 29
        },
        {
          "output_type": "display_data",
          "data": {
            "image/png": "[encoded data removed]",
            "text/plain": [
              "<Figure size 432x288 with 1 Axes>"
            ]
          },
          "metadata": {
            "tags": [],
            "needs_background": "light"
          }
        }
      ]
    },
    {
      "cell_type": "code",
      "metadata": {
        "colab": {
          "base_uri": "https://localhost:8080/"
        },
        "id": "BkGih19IKOSi",
        "outputId": "00247b20-a643-4f94-df3d-156c10ddae3d"
      },
      "source": [
        "pi = 4*len(j)/n\n",
        "pi"
      ],
      "execution_count": 27,
      "outputs": [
        {
          "output_type": "execute_result",
          "data": {
            "text/plain": [
              "3.152"
            ]
          },
          "metadata": {
            "tags": []
          },
          "execution_count": 27
        }
      ]
    },
    {
      "cell_type": "code",
      "metadata": {
        "id": "172X1LLQLpm8"
      },
      "source": [
        ""
      ],
      "execution_count": null,
      "outputs": []
    }
  ]
}